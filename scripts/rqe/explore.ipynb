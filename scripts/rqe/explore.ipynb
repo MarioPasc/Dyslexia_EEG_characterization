{
 "cells": [
  {
   "cell_type": "code",
   "execution_count": 1,
   "id": "b984aaff",
   "metadata": {},
   "outputs": [],
   "source": [
    "import os\n",
    "import numpy as np\n",
    "import json\n",
    "\n",
    "ROOT = \"/home/mario/Python/Datasets/EEG/timeseries/processed/rqa_windows/\"\n",
    "OUTPUT = os.path.join(ROOT, \"time_resolved_classification\")\n",
    "DATASET_ROOT = os.path.join(ROOT, \"dataset\")\n",
    "DATASET_INDEXES = json.load(\n",
    "    open(os.path.join(DATASET_ROOT, \"dataset_index.json\"), \"r\")\n",
    ")\n",
    "WINDOW = \"window_200\"\n",
    "DIRECTION = \"up\"\n",
    "ELECTRODE = \"T7\""
   ]
  },
  {
   "cell_type": "markdown",
   "id": "d83a0a56",
   "metadata": {},
   "source": [
    "*Get fold indexes for patients*"
   ]
  },
  {
   "cell_type": "code",
   "execution_count": 2,
   "id": "14296669",
   "metadata": {},
   "outputs": [
    {
     "name": "stdout",
     "output_type": "stream",
     "text": [
      "Fold 0 - Train: 39 | Test: 10\n"
     ]
    }
   ],
   "source": [
    "from pyddeeg.classification.utils.strat_kfold import stratified_kfold\n",
    "\n",
    "folds = stratified_kfold(root_path=DATASET_ROOT, n_splits=5, random_state=42, output_file=OUTPUT)\n",
    "fold_index = 0\n",
    "fold = folds.get(\"folds\", [])[fold_index]\n",
    "dd_train_index = fold.get(\"dd_train\", [])\n",
    "ct_train_index = fold.get(\"ct_train\", [])\n",
    "dd_test_index = fold.get(\"dd_test\", [])\n",
    "ct_test_index = fold.get(\"ct_test\", [])\n",
    "\n",
    "print(f\"Fold {fold_index} - Train: {len(dd_train_index) + len(ct_train_index)} | Test: {len(dd_test_index) + len(ct_test_index)}\")"
   ]
  },
  {
   "cell_type": "markdown",
   "id": "dc81241f",
   "metadata": {},
   "source": [
    "*Create (for one electrode) the train and test dataset*"
   ]
  },
  {
   "cell_type": "code",
   "execution_count": null,
   "id": "9a457aeb",
   "metadata": {},
   "outputs": [
    {
     "name": "stdout",
     "output_type": "stream",
     "text": [
      "EEG Dataset Summary:\n",
      "  Original train data shape: (39, 15, 679)\n",
      "  Train data with labels shape: (39, 16, 679)\n",
      "  Original test data shape: (10, 15, 679)\n",
      "  Test data with labels shape: (10, 16, 679)\n",
      "  Training samples: 39 (24 dyslexia, 15 control)\n",
      "  Testing samples: 10 (6 dyslexia, 4 control)\n",
      "  Metadata:\n",
      "    window: window_200\n",
      "    direction: up\n",
      "    electrode: T7\n",
      "    fold_index: 0\n",
      "    dd_shape: (15, 15, 679)\n",
      "    ct_shape: (34, 15, 679)\n",
      "First sample in training data: [  0.7204024    0.96527405 190.          33.6684492    3.9765287\n",
      "   1.          12.79503408 166.          12.79503408   2.94614892\n",
      "  42.           5.12048193   2.33736924   0.34183321   0.34196473]\n",
      "Label for first training sample: 1.0\n",
      "Electrode: T7\n"
     ]
    }
   ],
   "source": [
    "from pyddeeg.classification.dataloaders import create_labeled_dataset\n",
    "\n",
    "# Create dataset using the dataclass approach\n",
    "window = \"window_200\"\n",
    "direction = \"up\"\n",
    "electrode = \"T7\"\n",
    "fold_index = 0\n",
    "\n",
    "# Load fold information (or create if not already done)\n",
    "folds = stratified_kfold(root_path=DATASET_ROOT, n_splits=5, random_state=42, output_file=OUTPUT)\n",
    "\n",
    "# Create dataset with labels\n",
    "dataset = create_labeled_dataset(\n",
    "    dataset_root=DATASET_ROOT,\n",
    "    window=window,\n",
    "    direction=direction,\n",
    "    electrode=electrode,\n",
    "    fold_info=folds,\n",
    "    fold_index=fold_index\n",
    ")\n",
    "\n",
    "# Print dataset summary\n",
    "dataset.summary()\n",
    "\n",
    "# Access individual components\n",
    "print(f\"First sample in training data: {dataset.train_data[0, :, 0]}\")\n",
    "print(f\"Label for first training sample: {dataset.train_labels[0]}\")\n",
    "\n",
    "# Access metadata\n",
    "print(f\"Electrode: {dataset.metadata['electrode']}\")"
   ]
  }
 ],
 "metadata": {
  "kernelspec": {
   "display_name": "pyddeeg",
   "language": "python",
   "name": "python3"
  },
  "language_info": {
   "codemirror_mode": {
    "name": "ipython",
    "version": 3
   },
   "file_extension": ".py",
   "mimetype": "text/x-python",
   "name": "python",
   "nbconvert_exporter": "python",
   "pygments_lexer": "ipython3",
   "version": "3.10.17"
  }
 },
 "nbformat": 4,
 "nbformat_minor": 5
}
