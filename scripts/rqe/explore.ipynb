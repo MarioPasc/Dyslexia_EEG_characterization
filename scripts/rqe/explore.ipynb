{
 "cells": [
  {
   "cell_type": "code",
   "execution_count": 1,
   "id": "b984aaff",
   "metadata": {},
   "outputs": [],
   "source": [
    "import os\n",
    "import numpy as np\n",
    "import json\n",
    "\n",
    "import matplotlib.pyplot as plt\n",
    "\n",
    "from pyddeeg import METRIC_NAME_TO_INDEX\n",
    "\n",
    "ROOT = \"/home/mario/Python/Datasets/EEG/timeseries/processed/rqa_windows/\"\n",
    "ELECTRODE_INDEXED = os.path.join(ROOT, \"electrode_indexed\")\n",
    "DATASET_INDEXES = json.load(\n",
    "    open(os.path.join(ELECTRODE_INDEXED, \"dataset_index.json\"), \"r\")\n",
    ")\n",
    "WINDOW = \"window_200\"\n",
    "DIRECTION = \"up\"\n",
    "\n",
    "electrode_try = \"T7\"\n",
    "dd, ct = DATASET_INDEXES[WINDOW][DIRECTION][electrode_try][0], DATASET_INDEXES[WINDOW][DIRECTION][electrode_try][1]\n",
    "dd = np.load(dd)[\"metrics\"]\n",
    "ct = np.load(ct)[\"metrics\"]"
   ]
  },
  {
   "cell_type": "code",
   "execution_count": 2,
   "id": "9a7026bc",
   "metadata": {},
   "outputs": [],
   "source": [
    "from sklearn.model_selection import StratifiedKFold\n",
    "import numpy as np\n",
    "\n",
    "# Create patient indices\n",
    "dd_indices = np.arange(dd.shape[0])  # 0 to 14 (15 dyslexia patients)\n",
    "ct_indices = np.arange(ct.shape[0])  # 0 to 33 (34 control patients)\n",
    "\n",
    "# Create labels (1 for dyslexia, 0 for control)\n",
    "dd_labels = np.ones(len(dd_indices))\n",
    "ct_labels = np.zeros(len(ct_indices))\n",
    "\n",
    "# Combine indices and labels\n",
    "all_patient_indices = np.concatenate([dd_indices, ct_indices])\n",
    "all_labels = np.concatenate([dd_labels, ct_labels])"
   ]
  },
  {
   "cell_type": "code",
   "execution_count": null,
   "id": "9a4dc40c",
   "metadata": {},
   "outputs": [
    {
     "data": {
      "text/plain": [
       "array([1., 1., 1., 1., 1., 1., 1., 1., 1., 1., 1., 1., 1., 1., 1., 0., 0.,\n",
       "       0., 0., 0., 0., 0., 0., 0., 0., 0., 0., 0., 0., 0., 0., 0., 0., 0.,\n",
       "       0., 0., 0., 0., 0., 0., 0., 0., 0., 0., 0., 0., 0., 0., 0.])"
      ]
     },
     "execution_count": 3,
     "metadata": {},
     "output_type": "execute_result"
    }
   ],
   "source": [
    "# Apply StratifiedKFold (for example with 5 folds)\n",
    "n_splits = 5\n",
    "skf = StratifiedKFold(n_splits=n_splits, shuffle=True, random_state=42)\n",
    "\n",
    "# Store fold information\n",
    "folds = []\n",
    "for train_idx, test_idx in skf.split(all_patient_indices, all_labels):\n",
    "    # Get the patient indices for this fold\n",
    "    train_patients = all_patient_indices[train_idx]\n",
    "    test_patients = all_patient_indices[test_idx]\n",
    "    \n",
    "    # Separate by class (DD vs CT)\n",
    "    dd_train = train_patients[train_patients < len(dd_indices)]\n",
    "    ct_train = train_patients[train_patients >= len(dd_indices)] - len(dd_indices)\n",
    "    \n",
    "    dd_test = test_patients[test_patients < len(dd_indices)]\n",
    "    ct_test = test_patients[test_patients >= len(dd_indices)] - len(dd_indices)\n",
    "    \n",
    "    folds.append({\n",
    "        'dd_train': dd_train, \n",
    "        'ct_train': ct_train,\n",
    "        'dd_test': dd_test,\n",
    "        'ct_test': ct_test\n",
    "    })"
   ]
  }
 ],
 "metadata": {
  "kernelspec": {
   "display_name": "pyddeeg",
   "language": "python",
   "name": "python3"
  },
  "language_info": {
   "codemirror_mode": {
    "name": "ipython",
    "version": 3
   },
   "file_extension": ".py",
   "mimetype": "text/x-python",
   "name": "python",
   "nbconvert_exporter": "python",
   "pygments_lexer": "ipython3",
   "version": "3.10.17"
  }
 },
 "nbformat": 4,
 "nbformat_minor": 5
}
