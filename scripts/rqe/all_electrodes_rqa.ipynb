{
 "cells": [
  {
   "cell_type": "code",
   "execution_count": null,
   "metadata": {},
   "outputs": [
    {
     "name": "stderr",
     "output_type": "stream",
     "text": [
      "Processing electrodes:  12%|█▎        | 4/32 [00:05<00:36,  1.31s/it]"
     ]
    },
    {
     "name": "stdout",
     "output_type": "stream",
     "text": [
      "Warning: Electrode Fz not found in the dataset\n"
     ]
    },
    {
     "name": "stderr",
     "output_type": "stream",
     "text": [
      "Processing electrodes:  19%|█▉        | 6/32 [00:06<00:24,  1.05it/s]"
     ]
    },
    {
     "name": "stdout",
     "output_type": "stream",
     "text": [
      "Warning: Electrode F8 not found in the dataset\n",
      "Warning: Electrode FC5 not found in the dataset\n"
     ]
    },
    {
     "name": "stderr",
     "output_type": "stream",
     "text": [
      "Processing electrodes:  38%|███▊      | 12/32 [00:11<00:19,  1.04it/s]"
     ]
    },
    {
     "name": "stdout",
     "output_type": "stream",
     "text": [
      "Warning: Electrode C3 not found in the dataset\n",
      "Warning: Electrode C4 not found in the dataset\n",
      "Warning: Electrode T8 not found in the dataset\n",
      "Warning: Electrode TP9 not found in the dataset\n"
     ]
    },
    {
     "name": "stderr",
     "output_type": "stream",
     "text": [
      "Processing electrodes:  53%|█████▎    | 17/32 [00:12<00:07,  1.99it/s]"
     ]
    },
    {
     "name": "stdout",
     "output_type": "stream",
     "text": [
      "Warning: Electrode CP1 not found in the dataset\n",
      "Warning: Electrode CP2 not found in the dataset\n"
     ]
    },
    {
     "name": "stderr",
     "output_type": "stream",
     "text": [
      "Processing electrodes:  62%|██████▎   | 20/32 [00:13<00:05,  2.17it/s]"
     ]
    },
    {
     "name": "stdout",
     "output_type": "stream",
     "text": [
      "Warning: Electrode TP10 not found in the dataset\n"
     ]
    },
    {
     "name": "stderr",
     "output_type": "stream",
     "text": [
      "Processing electrodes:  69%|██████▉   | 22/32 [00:14<00:05,  1.98it/s]"
     ]
    },
    {
     "name": "stdout",
     "output_type": "stream",
     "text": [
      "Warning: Electrode P3 not found in the dataset\n",
      "Warning: Electrode Pz not found in the dataset\n"
     ]
    },
    {
     "name": "stderr",
     "output_type": "stream",
     "text": [
      "Processing electrodes:  78%|███████▊  | 25/32 [00:16<00:03,  2.17it/s]"
     ]
    },
    {
     "name": "stdout",
     "output_type": "stream",
     "text": [
      "Warning: Electrode P8 not found in the dataset\n"
     ]
    },
    {
     "name": "stderr",
     "output_type": "stream",
     "text": [
      "Processing electrodes: 100%|██████████| 32/32 [00:20<00:00,  1.59it/s]\n"
     ]
    },
    {
     "name": "stdout",
     "output_type": "stream",
     "text": [
      "Warning: Electrode O2 not found in the dataset\n",
      "Warning: Electrode PO10 not found in the dataset\n",
      "Warning: Electrode Cz not found in the dataset\n"
     ]
    },
    {
     "name": "stderr",
     "output_type": "stream",
     "text": [
      "Saving combined data files:  25%|██▌       | 1/4 [00:48<02:26, 48.69s/it]"
     ]
    },
    {
     "name": "stdout",
     "output_type": "stream",
     "text": [
      "Saved CT_DOWN data with shape (34, 32, 5, 9701, 15) to /home/mariopasc/Python/Datasets/EEG/timeseries/processed/rqa/CT_DOWN_rqa_processed.npz\n"
     ]
    },
    {
     "name": "stderr",
     "output_type": "stream",
     "text": [
      "Saving combined data files:  50%|█████     | 2/4 [01:43<01:44, 52.38s/it]"
     ]
    },
    {
     "name": "stdout",
     "output_type": "stream",
     "text": [
      "Saved CT_UP data with shape (34, 32, 5, 9701, 15) to /home/mariopasc/Python/Datasets/EEG/timeseries/processed/rqa/CT_UP_rqa_processed.npz\n"
     ]
    },
    {
     "name": "stderr",
     "output_type": "stream",
     "text": [
      "Saving combined data files:  75%|███████▌  | 3/4 [02:06<00:38, 38.81s/it]"
     ]
    },
    {
     "name": "stdout",
     "output_type": "stream",
     "text": [
      "Saved DD_DOWN data with shape (15, 32, 5, 9701, 15) to /home/mariopasc/Python/Datasets/EEG/timeseries/processed/rqa/DD_DOWN_rqa_processed.npz\n"
     ]
    },
    {
     "name": "stderr",
     "output_type": "stream",
     "text": [
      "Saving combined data files: 100%|██████████| 4/4 [02:28<00:00, 37.17s/it]"
     ]
    },
    {
     "name": "stdout",
     "output_type": "stream",
     "text": [
      "Saved DD_UP data with shape (15, 32, 5, 9701, 15) to /home/mariopasc/Python/Datasets/EEG/timeseries/processed/rqa/DD_UP_rqa_processed.npz\n",
      "Processed RQA data files:\n",
      "- CT_DOWN: /home/mariopasc/Python/Datasets/EEG/timeseries/processed/rqa/CT_DOWN_rqa_processed.npz\n",
      "- CT_UP: /home/mariopasc/Python/Datasets/EEG/timeseries/processed/rqa/CT_UP_rqa_processed.npz\n",
      "- DD_DOWN: /home/mariopasc/Python/Datasets/EEG/timeseries/processed/rqa/DD_DOWN_rqa_processed.npz\n",
      "- DD_UP: /home/mariopasc/Python/Datasets/EEG/timeseries/processed/rqa/DD_UP_rqa_processed.npz\n"
     ]
    },
    {
     "name": "stderr",
     "output_type": "stream",
     "text": [
      "\n"
     ]
    }
   ],
   "source": [
    "from typing import Optional\n",
    "from pyddeeg.utils.postprocessing.reorganize_rqa_results import reorganize_rqa_results\n",
    "\n",
    "# Set input and output paths\n",
    "INPUT_PATH: str = \"/home/mariopasc/Python/Datasets/EEG/timeseries/processed/rqa/raw\"\n",
    "# By default, save to the same directory\n",
    "OUTPUT_PATH: Optional[str] = \"/home/mariopasc/Python/Datasets/EEG/timeseries/processed/rqa\"\n",
    "\n",
    "# Process RQA data and get dictionary with file paths\n",
    "result_files = reorganize_rqa_results(\n",
    "    path=INPUT_PATH,\n",
    "    output_path=OUTPUT_PATH\n",
    ")\n",
    "\n",
    "# Display the results\n",
    "print(\"Processed RQA data files:\")\n",
    "for file_type, file_path in result_files.items():\n",
    "    print(f\"- {file_type}: {file_path}\")"
   ]
  }
 ],
 "metadata": {
  "kernelspec": {
   "display_name": "pyddeeg",
   "language": "python",
   "name": "python3"
  },
  "language_info": {
   "codemirror_mode": {
    "name": "ipython",
    "version": 3
   },
   "file_extension": ".py",
   "mimetype": "text/x-python",
   "name": "python",
   "nbconvert_exporter": "python",
   "pygments_lexer": "ipython3",
   "version": "3.10.16"
  }
 },
 "nbformat": 4,
 "nbformat_minor": 2
}
