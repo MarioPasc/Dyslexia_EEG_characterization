{
 "cells": [
  {
   "cell_type": "code",
   "execution_count": 4,
   "metadata": {},
   "outputs": [
    {
     "name": "stdout",
     "output_type": "stream",
     "text": [
      "There are already processed files in the output directory. Skipping reorganization.\n",
      "Processed RQA data files:\n",
      "- DD_DOWN: /home/mariopasc/Python/Datasets/EEG/timeseries/processed/rqa/DD_DOWN_rqa_processed.npz\n",
      "- CT_UP: /home/mariopasc/Python/Datasets/EEG/timeseries/processed/rqa/CT_UP_rqa_processed.npz\n",
      "- CT_DOWN: /home/mariopasc/Python/Datasets/EEG/timeseries/processed/rqa/CT_DOWN_rqa_processed.npz\n",
      "- DD_UP: /home/mariopasc/Python/Datasets/EEG/timeseries/processed/rqa/DD_UP_rqa_processed.npz\n"
     ]
    }
   ],
   "source": [
    "from typing import Optional\n",
    "from pyddeeg.utils.postprocessing.reorganize_rqa_results import reorganize_rqa_results\n",
    "\n",
    "import os\n",
    "import numpy as np\n",
    "\n",
    "# Set input and output paths\n",
    "INPUT_PATH: str = \"/home/mariopasc/Python/Datasets/EEG/timeseries/processed/rqa/raw\"\n",
    "# By default, save to the same directory\n",
    "OUTPUT_PATH: Optional[str] = \"/home/mariopasc/Python/Datasets/EEG/timeseries/processed/rqa\"\n",
    "\n",
    "output_files =[f for f in os.listdir(OUTPUT_PATH) \n",
    "               if \n",
    "               os.path.isfile(os.path.join(OUTPUT_PATH, f)) \n",
    "               and (\n",
    "                   f.startswith(\"CT_UP\") or\n",
    "                   f.startswith(\"CT_DOWN\") or\n",
    "                   f.startswith(\"DD_UP\") or \n",
    "                   f.startswith(\"DD_DOWN\")\n",
    "               )]\n",
    "\n",
    "if len(output_files) == 0:\n",
    "    print(\"No processed files found in the output directory. Reorganizing RQA results.\")\n",
    "    # Process RQA data and get dictionary with file paths\n",
    "    result_files = reorganize_rqa_results(\n",
    "        path=INPUT_PATH,\n",
    "        stimuli=\"phonem_20hz\",\n",
    "        output_path=OUTPUT_PATH\n",
    "    )\n",
    "else:\n",
    "    print(\"There are already processed files in the output directory. Skipping reorganization.\")\n",
    "    result_files = {file.strip(\"_rqa_processed.npz\"): os.path.join(OUTPUT_PATH, file) for file in output_files}\n",
    "    \n",
    "# Display the results\n",
    "print(\"Processed RQA data files:\")\n",
    "for file_type, file_path in result_files.items():\n",
    "    print(f\"- {file_type}: {file_path}\")"
   ]
  }
 ],
 "metadata": {
  "kernelspec": {
   "display_name": "pyddeeg",
   "language": "python",
   "name": "python3"
  },
  "language_info": {
   "codemirror_mode": {
    "name": "ipython",
    "version": 3
   },
   "file_extension": ".py",
   "mimetype": "text/x-python",
   "name": "python",
   "nbconvert_exporter": "python",
   "pygments_lexer": "ipython3",
   "version": "3.10.16"
  }
 },
 "nbformat": 4,
 "nbformat_minor": 2
}
